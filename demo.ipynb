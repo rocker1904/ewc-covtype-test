{
 "cells": [
  {
   "cell_type": "code",
   "execution_count": 1,
   "metadata": {},
   "outputs": [],
   "source": [
    "import torch\n",
    "from torch import nn\n",
    "from torch.nn import functional as F\n",
    "from CovTypeDataset import CovTypeDataset, PermutedCovTypeDataset\n",
    "from torch.utils.data import DataLoader\n",
    "from utils import test"
   ]
  },
  {
   "cell_type": "code",
   "execution_count": 2,
   "metadata": {},
   "outputs": [],
   "source": [
    "dataset = CovTypeDataset('./covtype/covtype.data')\n",
    "permuted_dataset = PermutedCovTypeDataset('./covtype/covtype.data', 6)"
   ]
  },
  {
   "cell_type": "code",
   "execution_count": 3,
   "metadata": {},
   "outputs": [],
   "source": [
    "class MLP(nn.Module):\n",
    "    def __init__(self, num_features, num_classes, hidden_size=400):\n",
    "        super(MLP, self).__init__()\n",
    "        self.dropout = nn.Dropout(0.25)\n",
    "        self.fc1 = nn.Linear(num_features, hidden_size)\n",
    "        self.fc2 = nn.Linear(hidden_size, hidden_size)\n",
    "        self.fc3 = nn.Linear(hidden_size, hidden_size)\n",
    "        self.fc4 = nn.Linear(hidden_size, num_classes)\n",
    "\n",
    "    def forward(self, input):\n",
    "        x = F.leaky_relu(self.fc1(input))\n",
    "        x = self.dropout(x)\n",
    "        x = F.leaky_relu(self.fc2(x))\n",
    "        x = self.dropout(x)\n",
    "        x = F.leaky_relu(self.fc3(x))\n",
    "        x = self.dropout(x)\n",
    "        x = F.leaky_relu(self.fc4(x))\n",
    "        return x"
   ]
  },
  {
   "cell_type": "code",
   "execution_count": 4,
   "metadata": {},
   "outputs": [
    {
     "data": {
      "text/plain": [
       "MLP(\n",
       "  (dropout): Dropout(p=0.25, inplace=False)\n",
       "  (fc1): Linear(in_features=54, out_features=400, bias=True)\n",
       "  (fc2): Linear(in_features=400, out_features=400, bias=True)\n",
       "  (fc3): Linear(in_features=400, out_features=400, bias=True)\n",
       "  (fc4): Linear(in_features=400, out_features=7, bias=True)\n",
       ")"
      ]
     },
     "execution_count": 4,
     "metadata": {},
     "output_type": "execute_result"
    }
   ],
   "source": [
    "model = torch.load('model')\n",
    "model.eval()\n",
    "\n",
    "model_ewc = torch.load('model_ewc')\n",
    "model.eval()"
   ]
  },
  {
   "cell_type": "code",
   "execution_count": 5,
   "metadata": {},
   "outputs": [],
   "source": [
    "combined_dataset = torch.utils.data.ConcatDataset([dataset, permuted_dataset])\n",
    "combined_dataloader = DataLoader(dataset=combined_dataset, batch_size=2000)\n",
    "acc = test(model, combined_dataloader) * 100\n",
    "acc_ewc = test(model_ewc, combined_dataloader) * 100"
   ]
  },
  {
   "cell_type": "code",
   "execution_count": 6,
   "metadata": {},
   "outputs": [
    {
     "name": "stdout",
     "output_type": "stream",
     "text": [
      "No EWC Accuracy: 67.95%\n",
      "EWC Accuracy: 82.7%\n"
     ]
    }
   ],
   "source": [
    "print(f'No EWC Accuracy: {round(acc.item(), 2)}%')\n",
    "print(f'EWC Accuracy: {round(acc_ewc.item(), 2)}%')"
   ]
  }
 ],
 "metadata": {
  "interpreter": {
   "hash": "214df3c8ff52af7e1139b93da6e52ab2a10558547de4efc2a5d5880b9f338769"
  },
  "kernelspec": {
   "display_name": "Python 3.8.12 ('tensortest')",
   "language": "python",
   "name": "python3"
  },
  "language_info": {
   "codemirror_mode": {
    "name": "ipython",
    "version": 3
   },
   "file_extension": ".py",
   "mimetype": "text/x-python",
   "name": "python",
   "nbconvert_exporter": "python",
   "pygments_lexer": "ipython3",
   "version": "3.8.12"
  },
  "orig_nbformat": 4
 },
 "nbformat": 4,
 "nbformat_minor": 2
}
